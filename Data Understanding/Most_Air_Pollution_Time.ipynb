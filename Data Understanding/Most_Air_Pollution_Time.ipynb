{
 "cells": [
  {
   "cell_type": "markdown",
   "metadata": {},
   "source": [
    "## Câu hỏi: Thời điểm nào trong ngày có tỉ lệ ô nhiễm không khí cao nhất ?"
   ]
  },
  {
   "cell_type": "markdown",
   "metadata": {},
   "source": [
    "#### IMPORT"
   ]
  },
  {
   "cell_type": "code",
   "execution_count": 26,
   "metadata": {},
   "outputs": [],
   "source": [
    "import pandas as pd\n",
    "from datetime import datetime\n",
    "import matplotlib.pyplot as plt\n",
    "import seaborn as sns"
   ]
  },
  {
   "cell_type": "markdown",
   "metadata": {},
   "source": [
    "#### Đọc dữ liệu"
   ]
  },
  {
   "cell_type": "code",
   "execution_count": 15,
   "metadata": {},
   "outputs": [],
   "source": [
    "# Load the uploaded file to inspect its content\n",
    "file_path = './ProcessedData.csv'\n",
    "data = pd.read_csv(file_path)"
   ]
  },
  {
   "cell_type": "code",
   "execution_count": 16,
   "metadata": {},
   "outputs": [
    {
     "data": {
      "text/html": [
       "<div>\n",
       "<style scoped>\n",
       "    .dataframe tbody tr th:only-of-type {\n",
       "        vertical-align: middle;\n",
       "    }\n",
       "\n",
       "    .dataframe tbody tr th {\n",
       "        vertical-align: top;\n",
       "    }\n",
       "\n",
       "    .dataframe thead th {\n",
       "        text-align: right;\n",
       "    }\n",
       "</style>\n",
       "<table border=\"1\" class=\"dataframe\">\n",
       "  <thead>\n",
       "    <tr style=\"text-align: right;\">\n",
       "      <th></th>\n",
       "      <th>Unnamed: 0</th>\n",
       "      <th>timestamp</th>\n",
       "      <th>Temprature (Kelvin)</th>\n",
       "      <th>Feels like (Kelvin)</th>\n",
       "      <th>Pressure (mb)</th>\n",
       "      <th>Humidity (%)</th>\n",
       "      <th>Temperature Amplitude</th>\n",
       "      <th>Wind speed (m/s)</th>\n",
       "      <th>Wind degree</th>\n",
       "      <th>Wind gust (m/s)</th>\n",
       "      <th>...</th>\n",
       "      <th>Weather Description</th>\n",
       "      <th>aqi</th>\n",
       "      <th>co</th>\n",
       "      <th>no</th>\n",
       "      <th>no2</th>\n",
       "      <th>o3</th>\n",
       "      <th>so2</th>\n",
       "      <th>pm2_5</th>\n",
       "      <th>pm10</th>\n",
       "      <th>nh3</th>\n",
       "    </tr>\n",
       "  </thead>\n",
       "  <tbody>\n",
       "    <tr>\n",
       "      <th>0</th>\n",
       "      <td>0</td>\n",
       "      <td>1701388800</td>\n",
       "      <td>301.16</td>\n",
       "      <td>306.75</td>\n",
       "      <td>1011.0</td>\n",
       "      <td>89.0</td>\n",
       "      <td>0.0</td>\n",
       "      <td>0.51</td>\n",
       "      <td>0.0</td>\n",
       "      <td>0.0</td>\n",
       "      <td>...</td>\n",
       "      <td>scattered clouds</td>\n",
       "      <td>5.0</td>\n",
       "      <td>921.25</td>\n",
       "      <td>128.75</td>\n",
       "      <td>42.50</td>\n",
       "      <td>0.0</td>\n",
       "      <td>56.74</td>\n",
       "      <td>246.02</td>\n",
       "      <td>294.09</td>\n",
       "      <td>29.64</td>\n",
       "    </tr>\n",
       "    <tr>\n",
       "      <th>1</th>\n",
       "      <td>1</td>\n",
       "      <td>1701392400</td>\n",
       "      <td>301.16</td>\n",
       "      <td>306.75</td>\n",
       "      <td>1011.0</td>\n",
       "      <td>89.0</td>\n",
       "      <td>0.0</td>\n",
       "      <td>0.51</td>\n",
       "      <td>300.0</td>\n",
       "      <td>0.0</td>\n",
       "      <td>...</td>\n",
       "      <td>scattered clouds</td>\n",
       "      <td>5.0</td>\n",
       "      <td>4699.71</td>\n",
       "      <td>109.08</td>\n",
       "      <td>34.62</td>\n",
       "      <td>0.0</td>\n",
       "      <td>42.44</td>\n",
       "      <td>199.75</td>\n",
       "      <td>233.37</td>\n",
       "      <td>22.29</td>\n",
       "    </tr>\n",
       "    <tr>\n",
       "      <th>2</th>\n",
       "      <td>2</td>\n",
       "      <td>1701396000</td>\n",
       "      <td>301.16</td>\n",
       "      <td>306.75</td>\n",
       "      <td>1010.0</td>\n",
       "      <td>89.0</td>\n",
       "      <td>0.0</td>\n",
       "      <td>0.51</td>\n",
       "      <td>0.0</td>\n",
       "      <td>0.0</td>\n",
       "      <td>...</td>\n",
       "      <td>scattered clouds</td>\n",
       "      <td>5.0</td>\n",
       "      <td>3791.81</td>\n",
       "      <td>84.94</td>\n",
       "      <td>26.73</td>\n",
       "      <td>0.0</td>\n",
       "      <td>29.80</td>\n",
       "      <td>157.48</td>\n",
       "      <td>177.82</td>\n",
       "      <td>17.23</td>\n",
       "    </tr>\n",
       "    <tr>\n",
       "      <th>3</th>\n",
       "      <td>3</td>\n",
       "      <td>1701399600</td>\n",
       "      <td>300.16</td>\n",
       "      <td>304.35</td>\n",
       "      <td>1009.0</td>\n",
       "      <td>94.0</td>\n",
       "      <td>0.0</td>\n",
       "      <td>0.51</td>\n",
       "      <td>330.0</td>\n",
       "      <td>0.0</td>\n",
       "      <td>...</td>\n",
       "      <td>scattered clouds</td>\n",
       "      <td>5.0</td>\n",
       "      <td>3017.43</td>\n",
       "      <td>61.69</td>\n",
       "      <td>20.91</td>\n",
       "      <td>0.0</td>\n",
       "      <td>22.41</td>\n",
       "      <td>121.27</td>\n",
       "      <td>132.87</td>\n",
       "      <td>13.05</td>\n",
       "    </tr>\n",
       "    <tr>\n",
       "      <th>4</th>\n",
       "      <td>4</td>\n",
       "      <td>1701403200</td>\n",
       "      <td>299.16</td>\n",
       "      <td>299.16</td>\n",
       "      <td>1009.0</td>\n",
       "      <td>94.0</td>\n",
       "      <td>0.0</td>\n",
       "      <td>0.51</td>\n",
       "      <td>290.0</td>\n",
       "      <td>0.0</td>\n",
       "      <td>...</td>\n",
       "      <td>mist</td>\n",
       "      <td>5.0</td>\n",
       "      <td>2456.67</td>\n",
       "      <td>46.04</td>\n",
       "      <td>17.82</td>\n",
       "      <td>0.0</td>\n",
       "      <td>19.55</td>\n",
       "      <td>96.76</td>\n",
       "      <td>104.39</td>\n",
       "      <td>10.26</td>\n",
       "    </tr>\n",
       "  </tbody>\n",
       "</table>\n",
       "<p>5 rows × 22 columns</p>\n",
       "</div>"
      ],
      "text/plain": [
       "   Unnamed: 0   timestamp  Temprature (Kelvin)  Feels like (Kelvin)  \\\n",
       "0           0  1701388800               301.16               306.75   \n",
       "1           1  1701392400               301.16               306.75   \n",
       "2           2  1701396000               301.16               306.75   \n",
       "3           3  1701399600               300.16               304.35   \n",
       "4           4  1701403200               299.16               299.16   \n",
       "\n",
       "   Pressure (mb)  Humidity (%)  Temperature Amplitude  Wind speed (m/s)  \\\n",
       "0         1011.0          89.0                    0.0              0.51   \n",
       "1         1011.0          89.0                    0.0              0.51   \n",
       "2         1010.0          89.0                    0.0              0.51   \n",
       "3         1009.0          94.0                    0.0              0.51   \n",
       "4         1009.0          94.0                    0.0              0.51   \n",
       "\n",
       "   Wind degree  Wind gust (m/s)  ...  Weather Description  aqi       co  \\\n",
       "0          0.0              0.0  ...     scattered clouds  5.0   921.25   \n",
       "1        300.0              0.0  ...     scattered clouds  5.0  4699.71   \n",
       "2          0.0              0.0  ...     scattered clouds  5.0  3791.81   \n",
       "3        330.0              0.0  ...     scattered clouds  5.0  3017.43   \n",
       "4        290.0              0.0  ...                 mist  5.0  2456.67   \n",
       "\n",
       "       no    no2   o3    so2   pm2_5    pm10    nh3  \n",
       "0  128.75  42.50  0.0  56.74  246.02  294.09  29.64  \n",
       "1  109.08  34.62  0.0  42.44  199.75  233.37  22.29  \n",
       "2   84.94  26.73  0.0  29.80  157.48  177.82  17.23  \n",
       "3   61.69  20.91  0.0  22.41  121.27  132.87  13.05  \n",
       "4   46.04  17.82  0.0  19.55   96.76  104.39  10.26  \n",
       "\n",
       "[5 rows x 22 columns]"
      ]
     },
     "execution_count": 16,
     "metadata": {},
     "output_type": "execute_result"
    }
   ],
   "source": [
    "# Hiển thị mẫu\n",
    "data.head(5)"
   ]
  },
  {
   "cell_type": "markdown",
   "metadata": {},
   "source": [
    "#### Chuyển đổi, lấy giá trị giờ từ timestamp"
   ]
  },
  {
   "cell_type": "code",
   "execution_count": 21,
   "metadata": {},
   "outputs": [
    {
     "data": {
      "text/html": [
       "<div>\n",
       "<style scoped>\n",
       "    .dataframe tbody tr th:only-of-type {\n",
       "        vertical-align: middle;\n",
       "    }\n",
       "\n",
       "    .dataframe tbody tr th {\n",
       "        vertical-align: top;\n",
       "    }\n",
       "\n",
       "    .dataframe thead th {\n",
       "        text-align: right;\n",
       "    }\n",
       "</style>\n",
       "<table border=\"1\" class=\"dataframe\">\n",
       "  <thead>\n",
       "    <tr style=\"text-align: right;\">\n",
       "      <th></th>\n",
       "      <th>timestamp</th>\n",
       "      <th>aqi</th>\n",
       "      <th>hour</th>\n",
       "    </tr>\n",
       "  </thead>\n",
       "  <tbody>\n",
       "    <tr>\n",
       "      <th>0</th>\n",
       "      <td>1701388800</td>\n",
       "      <td>5.0</td>\n",
       "      <td>7</td>\n",
       "    </tr>\n",
       "    <tr>\n",
       "      <th>1</th>\n",
       "      <td>1701392400</td>\n",
       "      <td>5.0</td>\n",
       "      <td>8</td>\n",
       "    </tr>\n",
       "    <tr>\n",
       "      <th>2</th>\n",
       "      <td>1701396000</td>\n",
       "      <td>5.0</td>\n",
       "      <td>9</td>\n",
       "    </tr>\n",
       "    <tr>\n",
       "      <th>3</th>\n",
       "      <td>1701399600</td>\n",
       "      <td>5.0</td>\n",
       "      <td>10</td>\n",
       "    </tr>\n",
       "    <tr>\n",
       "      <th>4</th>\n",
       "      <td>1701403200</td>\n",
       "      <td>5.0</td>\n",
       "      <td>11</td>\n",
       "    </tr>\n",
       "  </tbody>\n",
       "</table>\n",
       "</div>"
      ],
      "text/plain": [
       "    timestamp  aqi  hour\n",
       "0  1701388800  5.0     7\n",
       "1  1701392400  5.0     8\n",
       "2  1701396000  5.0     9\n",
       "3  1701399600  5.0    10\n",
       "4  1701403200  5.0    11"
      ]
     },
     "execution_count": 21,
     "metadata": {},
     "output_type": "execute_result"
    }
   ],
   "source": [
    "df = data[['timestamp', 'aqi']].copy()\n",
    "df['hour'] = df['timestamp'].apply(lambda ts: datetime.fromtimestamp(ts)).dt.hour\n",
    "df.head(5)"
   ]
  },
  {
   "cell_type": "markdown",
   "metadata": {},
   "source": [
    "#### Tính trung bình giá trị aqi theo từng giờ"
   ]
  },
  {
   "cell_type": "code",
   "execution_count": 35,
   "metadata": {},
   "outputs": [],
   "source": [
    "aqi_mean_hourly = df.groupby(df['hour'])['aqi'].mean()"
   ]
  },
  {
   "cell_type": "markdown",
   "metadata": {},
   "source": [
    "#### Trực quan hoá"
   ]
  },
  {
   "cell_type": "code",
   "execution_count": 37,
   "metadata": {},
   "outputs": [
    {
     "data": {
      "image/png": "[encoded data removed]",
      "text/plain": [
       "<Figure size 1200x600 with 1 Axes>"
      ]
     },
     "metadata": {},
     "output_type": "display_data"
    }
   ],
   "source": [
    "plt.figure(figsize=(12, 6))\n",
    "sns.lineplot(data = aqi_mean_hourly, marker='o', linewidth=2, color='green')\n",
    "plt.title('AQI Trends by Hour')\n",
    "plt.xlabel('Hour')\n",
    "plt.xticks(range(0, 24))\n",
    "plt.ylabel('AQI')\n",
    "plt.grid()\n",
    "plt.tight_layout();"
   ]
  },
  {
   "cell_type": "markdown",
   "metadata": {},
   "source": [
    "#### Nhận xét\n",
    "\n",
    "1. **Phân tích:**\n",
    "   - AQI có xu hướng tăng từ 0h - 17h, sau 17h AQI giảm mạnh.\n",
    "   - Có 2 thời điểm AQI đạt mức cao nhất:\n",
    "     - 5h: ~3.4\n",
    "     - 16h: ~3.55\n",
    "\n",
    "2. **Ý nghĩa:**\n",
    "   - Buổi sáng và chiều là thời điểm AQI cao, có thể do các hoạt động giao thông, công việc và điều kiện thời tiết nắng nóng ở thành phố Hồ Chí Minh.\n",
    "   - Buổi tối, AQI giảm mạnh, cho thấy không khí sạch hơn vào thời điểm này.\n"
   ]
  }
 ],
 "metadata": {
  "kernelspec": {
   "display_name": "min_ds-env2",
   "language": "python",
   "name": "python3"
  },
  "language_info": {
   "codemirror_mode": {
    "name": "ipython",
    "version": 3
   },
   "file_extension": ".py",
   "mimetype": "text/x-python",
   "name": "python",
   "nbconvert_exporter": "python",
   "pygments_lexer": "ipython3",
   "version": "3.10.15"
  }
 },
 "nbformat": 4,
 "nbformat_minor": 2
}
