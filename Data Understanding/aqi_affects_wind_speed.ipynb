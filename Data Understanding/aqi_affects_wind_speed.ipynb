{
 "cells": [
  {
   "cell_type": "markdown",
   "id": "b1f52e3b-7d14-4e53-b4a4-8607ee2258fc",
   "metadata": {},
   "source": [
    "### Câu hỏi: Tốc độ gió (Wind speed) có xu hướng tăng hay giảm khi chất lượng không khí (aqi) xấu đi?\n",
    "\n",
    "Câu hỏi này sẽ giúp:\n",
    "- Kiểm tra mối quan hệ giữa tốc độ gió và chỉ số chất lượng không khí.\n",
    "- Xác định xem tốc độ gió có ảnh hưởng tích cực hay tiêu cực đến chất lượng không khí.\n",
    "\n",
    "#### 1. Khai báo thư viện"
   ]
  },
  {
   "cell_type": "code",
   "execution_count": 9,
   "id": "8aa4c68f-ea14-4e3a-be54-a552f5a2aeb8",
   "metadata": {},
   "outputs": [],
   "source": [
    "import pandas as pd\n",
    "import matplotlib.pyplot as plt"
   ]
  },
  {
   "cell_type": "markdown",
   "id": "190f8c8a-2064-4433-bc1d-0118114f80fc",
   "metadata": {},
   "source": [
    "#### 2. Chuẩn bị dữ liệu"
   ]
  },
  {
   "cell_type": "code",
   "execution_count": 3,
   "id": "85c6769a-67a6-4ee3-8049-a68dc17b25ff",
   "metadata": {},
   "outputs": [
    {
     "data": {
      "text/html": [
       "<div>\n",
       "<style scoped>\n",
       "    .dataframe tbody tr th:only-of-type {\n",
       "        vertical-align: middle;\n",
       "    }\n",
       "\n",
       "    .dataframe tbody tr th {\n",
       "        vertical-align: top;\n",
       "    }\n",
       "\n",
       "    .dataframe thead th {\n",
       "        text-align: right;\n",
       "    }\n",
       "</style>\n",
       "<table border=\"1\" class=\"dataframe\">\n",
       "  <thead>\n",
       "    <tr style=\"text-align: right;\">\n",
       "      <th></th>\n",
       "      <th>Unnamed: 0</th>\n",
       "      <th>timestamp</th>\n",
       "      <th>Temprature (Kelvin)</th>\n",
       "      <th>Feels like (Kelvin)</th>\n",
       "      <th>Pressure (mb)</th>\n",
       "      <th>Humidity (%)</th>\n",
       "      <th>Temperature Amplitude</th>\n",
       "      <th>Wind speed (m/s)</th>\n",
       "      <th>Wind degree</th>\n",
       "      <th>Wind gust (m/s)</th>\n",
       "      <th>...</th>\n",
       "      <th>Weather Description</th>\n",
       "      <th>aqi</th>\n",
       "      <th>co</th>\n",
       "      <th>no</th>\n",
       "      <th>no2</th>\n",
       "      <th>o3</th>\n",
       "      <th>so2</th>\n",
       "      <th>pm2_5</th>\n",
       "      <th>pm10</th>\n",
       "      <th>nh3</th>\n",
       "    </tr>\n",
       "  </thead>\n",
       "  <tbody>\n",
       "    <tr>\n",
       "      <th>0</th>\n",
       "      <td>0</td>\n",
       "      <td>1701388800</td>\n",
       "      <td>301.16</td>\n",
       "      <td>306.75</td>\n",
       "      <td>1011.0</td>\n",
       "      <td>89.0</td>\n",
       "      <td>0.0</td>\n",
       "      <td>0.51</td>\n",
       "      <td>0.0</td>\n",
       "      <td>0.0</td>\n",
       "      <td>...</td>\n",
       "      <td>scattered clouds</td>\n",
       "      <td>5.0</td>\n",
       "      <td>921.25</td>\n",
       "      <td>128.75</td>\n",
       "      <td>42.50</td>\n",
       "      <td>0.0</td>\n",
       "      <td>56.74</td>\n",
       "      <td>246.02</td>\n",
       "      <td>294.09</td>\n",
       "      <td>29.64</td>\n",
       "    </tr>\n",
       "    <tr>\n",
       "      <th>1</th>\n",
       "      <td>1</td>\n",
       "      <td>1701392400</td>\n",
       "      <td>301.16</td>\n",
       "      <td>306.75</td>\n",
       "      <td>1011.0</td>\n",
       "      <td>89.0</td>\n",
       "      <td>0.0</td>\n",
       "      <td>0.51</td>\n",
       "      <td>300.0</td>\n",
       "      <td>0.0</td>\n",
       "      <td>...</td>\n",
       "      <td>scattered clouds</td>\n",
       "      <td>5.0</td>\n",
       "      <td>4699.71</td>\n",
       "      <td>109.08</td>\n",
       "      <td>34.62</td>\n",
       "      <td>0.0</td>\n",
       "      <td>42.44</td>\n",
       "      <td>199.75</td>\n",
       "      <td>233.37</td>\n",
       "      <td>22.29</td>\n",
       "    </tr>\n",
       "    <tr>\n",
       "      <th>2</th>\n",
       "      <td>2</td>\n",
       "      <td>1701396000</td>\n",
       "      <td>301.16</td>\n",
       "      <td>306.75</td>\n",
       "      <td>1010.0</td>\n",
       "      <td>89.0</td>\n",
       "      <td>0.0</td>\n",
       "      <td>0.51</td>\n",
       "      <td>0.0</td>\n",
       "      <td>0.0</td>\n",
       "      <td>...</td>\n",
       "      <td>scattered clouds</td>\n",
       "      <td>5.0</td>\n",
       "      <td>3791.81</td>\n",
       "      <td>84.94</td>\n",
       "      <td>26.73</td>\n",
       "      <td>0.0</td>\n",
       "      <td>29.80</td>\n",
       "      <td>157.48</td>\n",
       "      <td>177.82</td>\n",
       "      <td>17.23</td>\n",
       "    </tr>\n",
       "    <tr>\n",
       "      <th>3</th>\n",
       "      <td>3</td>\n",
       "      <td>1701399600</td>\n",
       "      <td>300.16</td>\n",
       "      <td>304.35</td>\n",
       "      <td>1009.0</td>\n",
       "      <td>94.0</td>\n",
       "      <td>0.0</td>\n",
       "      <td>0.51</td>\n",
       "      <td>330.0</td>\n",
       "      <td>0.0</td>\n",
       "      <td>...</td>\n",
       "      <td>scattered clouds</td>\n",
       "      <td>5.0</td>\n",
       "      <td>3017.43</td>\n",
       "      <td>61.69</td>\n",
       "      <td>20.91</td>\n",
       "      <td>0.0</td>\n",
       "      <td>22.41</td>\n",
       "      <td>121.27</td>\n",
       "      <td>132.87</td>\n",
       "      <td>13.05</td>\n",
       "    </tr>\n",
       "    <tr>\n",
       "      <th>4</th>\n",
       "      <td>4</td>\n",
       "      <td>1701403200</td>\n",
       "      <td>299.16</td>\n",
       "      <td>299.16</td>\n",
       "      <td>1009.0</td>\n",
       "      <td>94.0</td>\n",
       "      <td>0.0</td>\n",
       "      <td>0.51</td>\n",
       "      <td>290.0</td>\n",
       "      <td>0.0</td>\n",
       "      <td>...</td>\n",
       "      <td>mist</td>\n",
       "      <td>5.0</td>\n",
       "      <td>2456.67</td>\n",
       "      <td>46.04</td>\n",
       "      <td>17.82</td>\n",
       "      <td>0.0</td>\n",
       "      <td>19.55</td>\n",
       "      <td>96.76</td>\n",
       "      <td>104.39</td>\n",
       "      <td>10.26</td>\n",
       "    </tr>\n",
       "  </tbody>\n",
       "</table>\n",
       "<p>5 rows × 22 columns</p>\n",
       "</div>"
      ],
      "text/plain": [
       "   Unnamed: 0   timestamp  Temprature (Kelvin)  Feels like (Kelvin)  \\\n",
       "0           0  1701388800               301.16               306.75   \n",
       "1           1  1701392400               301.16               306.75   \n",
       "2           2  1701396000               301.16               306.75   \n",
       "3           3  1701399600               300.16               304.35   \n",
       "4           4  1701403200               299.16               299.16   \n",
       "\n",
       "   Pressure (mb)  Humidity (%)  Temperature Amplitude  Wind speed (m/s)  \\\n",
       "0         1011.0          89.0                    0.0              0.51   \n",
       "1         1011.0          89.0                    0.0              0.51   \n",
       "2         1010.0          89.0                    0.0              0.51   \n",
       "3         1009.0          94.0                    0.0              0.51   \n",
       "4         1009.0          94.0                    0.0              0.51   \n",
       "\n",
       "   Wind degree  Wind gust (m/s)  ...  Weather Description  aqi       co  \\\n",
       "0          0.0              0.0  ...     scattered clouds  5.0   921.25   \n",
       "1        300.0              0.0  ...     scattered clouds  5.0  4699.71   \n",
       "2          0.0              0.0  ...     scattered clouds  5.0  3791.81   \n",
       "3        330.0              0.0  ...     scattered clouds  5.0  3017.43   \n",
       "4        290.0              0.0  ...                 mist  5.0  2456.67   \n",
       "\n",
       "       no    no2   o3    so2   pm2_5    pm10    nh3  \n",
       "0  128.75  42.50  0.0  56.74  246.02  294.09  29.64  \n",
       "1  109.08  34.62  0.0  42.44  199.75  233.37  22.29  \n",
       "2   84.94  26.73  0.0  29.80  157.48  177.82  17.23  \n",
       "3   61.69  20.91  0.0  22.41  121.27  132.87  13.05  \n",
       "4   46.04  17.82  0.0  19.55   96.76  104.39  10.26  \n",
       "\n",
       "[5 rows x 22 columns]"
      ]
     },
     "execution_count": 3,
     "metadata": {},
     "output_type": "execute_result"
    }
   ],
   "source": [
    "# Đọc dữ liệu từ file CSV\n",
    "file_path = \"ProcessedData.csv\"\n",
    "data = pd.read_csv(file_path)\n",
    "\n",
    "# Kiểm tra dữ liệu\n",
    "data.head()"
   ]
  },
  {
   "cell_type": "markdown",
   "id": "4ed7fff0-5120-4339-aad4-beb72d310a42",
   "metadata": {},
   "source": [
    "#### 3. Phân nhóm theo AQI\n",
    "\n",
    "Chia dữ liệu thành các nhóm dựa trên chỉ số chất lượng không khí (aqi)."
   ]
  },
  {
   "cell_type": "code",
   "execution_count": 14,
   "id": "0278cdc1-ecca-4b60-8549-f7c2a8767e4a",
   "metadata": {},
   "outputs": [
    {
     "name": "stdout",
     "output_type": "stream",
     "text": [
      "[5. 4. 3. 2. 1.]\n"
     ]
    }
   ],
   "source": [
    "# Kiểm tra các giá trị duy nhất trong cột 'aqi'\n",
    "print(data['aqi'].unique())\n",
    "\n",
    "# Gắn nhãn mô tả cho từng mức AQI\n",
    "aqi_labels = {\n",
    "    1: 'Good',\n",
    "    2: 'Moderate',\n",
    "    3: 'Unhealthy for\\nSensitive Groups',\n",
    "    4: 'Unhealthy',\n",
    "    5: 'Very Unhealthy'\n",
    "}\n",
    "data['aqi_label'] = data['aqi'].map(aqi_labels)"
   ]
  },
  {
   "cell_type": "markdown",
   "id": "ec568939-c81d-4def-933e-7d282857eff0",
   "metadata": {},
   "source": [
    "#### 4. Tính toán tốc độ gió trung bình cho từng nhóm AQI"
   ]
  },
  {
   "cell_type": "code",
   "execution_count": 15,
   "id": "92912f4c-7172-4ee9-a5b6-e51a5930d736",
   "metadata": {},
   "outputs": [
    {
     "data": {
      "text/html": [
       "<div>\n",
       "<style scoped>\n",
       "    .dataframe tbody tr th:only-of-type {\n",
       "        vertical-align: middle;\n",
       "    }\n",
       "\n",
       "    .dataframe tbody tr th {\n",
       "        vertical-align: top;\n",
       "    }\n",
       "\n",
       "    .dataframe thead th {\n",
       "        text-align: right;\n",
       "    }\n",
       "</style>\n",
       "<table border=\"1\" class=\"dataframe\">\n",
       "  <thead>\n",
       "    <tr style=\"text-align: right;\">\n",
       "      <th></th>\n",
       "      <th>aqi</th>\n",
       "      <th>Wind speed (m/s)</th>\n",
       "    </tr>\n",
       "  </thead>\n",
       "  <tbody>\n",
       "    <tr>\n",
       "      <th>0</th>\n",
       "      <td>1.0</td>\n",
       "      <td>4.432565</td>\n",
       "    </tr>\n",
       "    <tr>\n",
       "      <th>1</th>\n",
       "      <td>2.0</td>\n",
       "      <td>3.798489</td>\n",
       "    </tr>\n",
       "    <tr>\n",
       "      <th>2</th>\n",
       "      <td>3.0</td>\n",
       "      <td>3.076445</td>\n",
       "    </tr>\n",
       "    <tr>\n",
       "      <th>3</th>\n",
       "      <td>4.0</td>\n",
       "      <td>2.572841</td>\n",
       "    </tr>\n",
       "    <tr>\n",
       "      <th>4</th>\n",
       "      <td>5.0</td>\n",
       "      <td>2.019595</td>\n",
       "    </tr>\n",
       "  </tbody>\n",
       "</table>\n",
       "</div>"
      ],
      "text/plain": [
       "   aqi  Wind speed (m/s)\n",
       "0  1.0          4.432565\n",
       "1  2.0          3.798489\n",
       "2  3.0          3.076445\n",
       "3  4.0          2.572841\n",
       "4  5.0          2.019595"
      ]
     },
     "execution_count": 15,
     "metadata": {},
     "output_type": "execute_result"
    }
   ],
   "source": [
    "# Tính tốc độ gió trung bình theo AQI\n",
    "wind_speed_by_aqi = data.groupby('aqi')['Wind speed (m/s)'].mean().reset_index()\n",
    "\n",
    "wind_speed_by_aqi"
   ]
  },
  {
   "cell_type": "markdown",
   "id": "3b59234b-61eb-48aa-8013-761120a3c506",
   "metadata": {},
   "source": [
    "#### 5. Trực quan hóa kết quả"
   ]
  },
  {
   "cell_type": "code",
   "execution_count": 18,
   "id": "66b63224-d856-4b76-9f6f-21ab97645bb2",
   "metadata": {},
   "outputs": [
    {
     "data": {
      "image/png": "[encoded data removed]",
      "text/plain": [
       "<Figure size 640x480 with 1 Axes>"
      ]
     },
     "metadata": {},
     "output_type": "display_data"
    }
   ],
   "source": [
    "# Biểu đồ cột thể hiện tốc độ gió theo AQI\n",
    "plt.bar(wind_speed_by_aqi['aqi'], wind_speed_by_aqi['Wind speed (m/s)'], color='skyblue')\n",
    "plt.xlabel('AQI Levels')\n",
    "plt.ylabel('Average Wind Speed (m/s)')\n",
    "plt.title('Wind Speed vs Air Qualitiy Index')\n",
    "plt.xticks(wind_speed_by_aqi['aqi'], labels=wind_speed_by_aqi['aqi'].map(aqi_labels), rotation=30)\n",
    "plt.show()"
   ]
  },
  {
   "cell_type": "markdown",
   "id": "2f322567-11e5-4a48-95b6-e7f63a9a400f",
   "metadata": {},
   "source": [
    "#### 6. Kết luận\n",
    "\n",
    "- Xu hướng: Tốc độ gió trung bình (Average Wind Speed) có xu hướng giảm dần khi chất lượng không khí (AQI) trở nên xấu hơn.\n",
    "    + Ở mức AQI \"Good\", tốc độ gió trung bình cao nhất, vượt mức 4 m/s.\n",
    "    + Ở mức AQI \"Very Unhealthy\", tốc độ gió trung bình thấp nhất, dưới 2 m/s.\n",
    "- Phân tích: Dựa trên biểu đồ, có thể suy luận rằng:\n",
    "    + Tốc độ gió cao có thể giúp khuếch tán các chất ô nhiễm trong không khí, dẫn đến chất lượng không khí tốt hơn.\n",
    "    + Tốc độ gió thấp có thể khiến các chất ô nhiễm tích tụ, dẫn đến chất lượng không khí xấu hơn."
   ]
  },
  {
   "cell_type": "code",
   "execution_count": null,
   "id": "dcde5c68-d7cf-41fb-b7e8-b16ca92316d0",
   "metadata": {},
   "outputs": [],
   "source": []
  }
 ],
 "metadata": {
  "kernelspec": {
   "display_name": "Python 3 (ipykernel)",
   "language": "python",
   "name": "python3"
  },
  "language_info": {
   "codemirror_mode": {
    "name": "ipython",
    "version": 3
   },
   "file_extension": ".py",
   "mimetype": "text/x-python",
   "name": "python",
   "nbconvert_exporter": "python",
   "pygments_lexer": "ipython3",
   "version": "3.10.16"
  }
 },
 "nbformat": 4,
 "nbformat_minor": 5
}
