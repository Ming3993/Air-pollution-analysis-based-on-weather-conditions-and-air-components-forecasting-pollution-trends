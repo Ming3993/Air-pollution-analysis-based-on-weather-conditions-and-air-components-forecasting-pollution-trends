{
 "cells": [
  {
   "cell_type": "code",
   "execution_count": 1,
   "metadata": {},
   "outputs": [],
   "source": [
    "import numpy as np\n",
    "import pandas as pd\n",
    "from sklearn.model_selection import train_test_split\n",
    "from sklearn.linear_model import LinearRegression\n",
    "from sklearn.tree import DecisionTreeRegressor\n",
    "from sklearn.multioutput import MultiOutputRegressor\n",
    "from sklearn.ensemble import RandomForestRegressor\n",
    "from sklearn.model_selection import GridSearchCV"
   ]
  },
  {
   "cell_type": "markdown",
   "metadata": {},
   "source": [
    "### Đọc dữ liệu"
   ]
  },
  {
   "cell_type": "code",
   "execution_count": 2,
   "metadata": {},
   "outputs": [],
   "source": [
    "file_path = './ProcessedData.csv'\n",
    "data = pd.read_csv(file_path)"
   ]
  },
  {
   "cell_type": "markdown",
   "metadata": {},
   "source": [
    "### Xử lý dữ liệu"
   ]
  },
  {
   "cell_type": "code",
   "execution_count": 3,
   "metadata": {},
   "outputs": [],
   "source": [
    "# Remove unnecessary columns and prepare features and target\n",
    "# Dropping 'Unnamed: 0', 'timestamp', and 'Weather Description' for now\n",
    "columns_to_drop = ['Unnamed: 0', 'timestamp', 'Weather Description']\n",
    "air = ['so2','no2','pm10','pm2_5','o3','co']\n",
    "weather = ['Temprature (Kelvin)','Feels like (Kelvin)','Pressure (mb)',\n",
    "           'Humidity (%)','Temperature Amplitude','Wind speed (m/s)','Wind degree',\n",
    "           'Wind gust (m/s)','Clouds all (%)','Rain 1h (mm)']\n",
    "features = data.drop(columns=columns_to_drop + ['aqi'] + air)  # Exclude target column 'aqi' and air\n",
    "target = data[air]"
   ]
  },
  {
   "cell_type": "markdown",
   "metadata": {},
   "source": [
    "### Xây dựng hàm loss"
   ]
  },
  {
   "cell_type": "markdown",
   "metadata": {},
   "source": [
    "#### Dictionary để tham chiếu AQI dựa trên các chỉ số thành phần không khí"
   ]
  },
  {
   "cell_type": "code",
   "execution_count": 4,
   "metadata": {},
   "outputs": [],
   "source": [
    "aqi_thresholds = {\n",
    "    'so2': [\n",
    "        (0, 20), (20, 80), (80, 250), (250, 350), (350, float('inf'))\n",
    "    ],\n",
    "    'no2': [\n",
    "        (0, 40), (40, 70), (70, 150), (150, 200), (200, float('inf'))\n",
    "    ],\n",
    "    'pm10': [\n",
    "        (0, 20), (20, 50), (50, 100), (100, 200), (200, float('inf'))\n",
    "    ],\n",
    "    'pm2_5': [\n",
    "        (0, 10), (10, 25), (25, 50), (50, 75), (75, float('inf'))\n",
    "    ],\n",
    "    'o3': [\n",
    "        (0, 60), (60, 100), (100, 140), (140, 180), (180, float('inf'))\n",
    "    ],\n",
    "    'co': [\n",
    "        (0, 4400), (4400, 9400), (9400, 12400), (12400, 15400), (15400, float('inf'))\n",
    "    ]\n",
    "}"
   ]
  },
  {
   "cell_type": "markdown",
   "metadata": {},
   "source": [
    "#### Trả về danh sách các chất gây ra ô nhiễm dựa trên các thành phần không khí trong 1 dòng"
   ]
  },
  {
   "cell_type": "code",
   "execution_count": 5,
   "metadata": {},
   "outputs": [],
   "source": [
    "def identify_pollutants(row, thresholds, pollutant_names):\n",
    "    \"\"\"\n",
    "    Xác định mức AQI của một mảng dữ liệu và trả về các chất ô nhiễm với mức AQI tương ứng.\n",
    "\n",
    "    Parameters:\n",
    "    - row: list hoặc numpy array chứa các giá trị của chất ô nhiễm.\n",
    "    - thresholds: từ điển ngưỡng AQI.\n",
    "    - pollutant_names: danh sách tên các chất ô nhiễm tương ứng với row.\n",
    "\n",
    "    Returns:\n",
    "    - Danh sách các chất ô nhiễm cùng với mức AQI của chúng.\n",
    "    \"\"\"\n",
    "    aqi_details = []  # Danh sách lưu trữ chi tiết các chất ô nhiễm và mức AQI\n",
    "    for i, pollutant in enumerate(pollutant_names):\n",
    "        value = row[i]  # Giá trị của chất ô nhiễm tại vị trí i\n",
    "        for index, (lower, upper) in enumerate(thresholds[pollutant], start=1):\n",
    "            if lower <= value < upper:\n",
    "                if index >= 4:\n",
    "                    aqi_details.append(pollutant)  # Lưu tên chất ô nhiễm và mức AQI\n",
    "                break\n",
    "    return aqi_details  # Trả về danh sách các chất ô nhiễm và mức AQI"
   ]
  },
  {
   "cell_type": "markdown",
   "metadata": {},
   "source": [
    "#### Xác định ô nhiễm gây ra bởi các nhóm chất nào (bụi mịn (PM2.5, PM10)/ Khí độc (CO, SO2, NO)/ Ozone tầng mặt đất (O3))\n",
    "Các chất ô nhiễm cùng nhóm có các nguyên nhân gây ra và biện pháp phòng tránh gần tương tự nhau"
   ]
  },
  {
   "cell_type": "code",
   "execution_count": 6,
   "metadata": {},
   "outputs": [],
   "source": [
    "def group_pollutant(pollutants):\n",
    "    groups = [['pm2_5', 'pm10'],['co','so2','no2'], ['o3']]\n",
    "    idx_array = []\n",
    "    for item in pollutants:\n",
    "        for index in range(len(groups)):\n",
    "            if item in groups[index] and index not in idx_array:\n",
    "                idx_array.append(index)\n",
    "                \n",
    "    return idx_array"
   ]
  },
  {
   "cell_type": "markdown",
   "metadata": {},
   "source": [
    "#### Hàm loss\n",
    "Trả ra kết quả đúng/sai. Nếu mẫu không khí dự đoán và mẫu không khí thực tế có cùng các nhóm chất ô nhiễm được xem là đúng. Khác nhau sẽ là sai"
   ]
  },
  {
   "cell_type": "code",
   "execution_count": 7,
   "metadata": {},
   "outputs": [],
   "source": [
    "def loss_function(y_pred, y_test):\n",
    "    count_diff = 0\n",
    "    for i in range(len(y_test)):\n",
    "        aqi_predict = identify_pollutants(y_pred.loc[i], aqi_thresholds, air)\n",
    "        aqi_test = identify_pollutants(y_test.iloc[i].values, aqi_thresholds, air)\n",
    "        if group_pollutant(aqi_predict) != group_pollutant(aqi_test):\n",
    "            count_diff += 1\n",
    "    \n",
    "    return count_diff / len(y_test)"
   ]
  },
  {
   "cell_type": "markdown",
   "metadata": {},
   "source": [
    "#### Chia tập\n",
    "Chia tập dữ liệu theo tỉ lệ 80/10/10: Mô hình có đủ dữ kiện để học, tinh chỉnh tham số và kiểm tra xem mô hình có bị overfitting/underfitting hay không"
   ]
  },
  {
   "cell_type": "code",
   "execution_count": 8,
   "metadata": {},
   "outputs": [],
   "source": [
    "# Chia dữ liệu thành tập train (80%), validation (10%) và test (10%)\n",
    "# Tách tập test (10%)\n",
    "X_train_valid, X_test, y_train_valid, y_test = train_test_split(features, target, test_size=0.1, random_state=42)\n",
    "\n",
    "# Tách tập train và valid (1/9 của train_valid)\n",
    "X_train, X_valid, y_train, y_valid = train_test_split(X_train_valid, y_train_valid, test_size=0.1/0.9, random_state=42)"
   ]
  },
  {
   "cell_type": "markdown",
   "metadata": {},
   "source": [
    "### Mô hình cơ sở: Hồi quy tuyến tính đơn biến"
   ]
  },
  {
   "cell_type": "markdown",
   "metadata": {},
   "source": [
    "Vì mô hình hồi quy tuyến tính không có tham số điều chỉnh do đó dùng tập dữ liệu train/test đã được chia ở trên để huấn luyện mô hình"
   ]
  },
  {
   "cell_type": "code",
   "execution_count": 9,
   "metadata": {},
   "outputs": [],
   "source": [
    "y_pred_lg = []\n",
    "\n",
    "for col in y_train.columns:\n",
    "    model = LinearRegression()\n",
    "    model.fit(X_train, y_train[col])\n",
    "    y_pred_lg.append(model.predict(X_test))\n",
    "\n",
    "# Chuyển về dataframe\n",
    "y_pred_lg = pd.DataFrame(y_pred_lg).T\n",
    "y_pred_lg.columns = y_train.columns"
   ]
  },
  {
   "cell_type": "code",
   "execution_count": 10,
   "metadata": {},
   "outputs": [
    {
     "data": {
      "text/html": [
       "<div>\n",
       "<style scoped>\n",
       "    .dataframe tbody tr th:only-of-type {\n",
       "        vertical-align: middle;\n",
       "    }\n",
       "\n",
       "    .dataframe tbody tr th {\n",
       "        vertical-align: top;\n",
       "    }\n",
       "\n",
       "    .dataframe thead th {\n",
       "        text-align: right;\n",
       "    }\n",
       "</style>\n",
       "<table border=\"1\" class=\"dataframe\">\n",
       "  <thead>\n",
       "    <tr style=\"text-align: right;\">\n",
       "      <th></th>\n",
       "      <th>so2</th>\n",
       "      <th>no2</th>\n",
       "      <th>pm10</th>\n",
       "      <th>pm2_5</th>\n",
       "      <th>o3</th>\n",
       "      <th>co</th>\n",
       "    </tr>\n",
       "  </thead>\n",
       "  <tbody>\n",
       "    <tr>\n",
       "      <th>0</th>\n",
       "      <td>50.684416</td>\n",
       "      <td>44.340690</td>\n",
       "      <td>73.784391</td>\n",
       "      <td>50.632736</td>\n",
       "      <td>31.903188</td>\n",
       "      <td>1295.719836</td>\n",
       "    </tr>\n",
       "    <tr>\n",
       "      <th>1</th>\n",
       "      <td>26.432663</td>\n",
       "      <td>30.373145</td>\n",
       "      <td>47.828544</td>\n",
       "      <td>29.053158</td>\n",
       "      <td>1.024751</td>\n",
       "      <td>918.481214</td>\n",
       "    </tr>\n",
       "    <tr>\n",
       "      <th>2</th>\n",
       "      <td>36.029755</td>\n",
       "      <td>35.083525</td>\n",
       "      <td>65.972743</td>\n",
       "      <td>47.193143</td>\n",
       "      <td>10.207127</td>\n",
       "      <td>1252.355067</td>\n",
       "    </tr>\n",
       "    <tr>\n",
       "      <th>3</th>\n",
       "      <td>54.057710</td>\n",
       "      <td>52.729967</td>\n",
       "      <td>104.287249</td>\n",
       "      <td>68.323767</td>\n",
       "      <td>25.215685</td>\n",
       "      <td>1673.105170</td>\n",
       "    </tr>\n",
       "    <tr>\n",
       "      <th>4</th>\n",
       "      <td>42.121971</td>\n",
       "      <td>36.125891</td>\n",
       "      <td>62.158936</td>\n",
       "      <td>45.839362</td>\n",
       "      <td>13.103738</td>\n",
       "      <td>1215.222753</td>\n",
       "    </tr>\n",
       "    <tr>\n",
       "      <th>...</th>\n",
       "      <td>...</td>\n",
       "      <td>...</td>\n",
       "      <td>...</td>\n",
       "      <td>...</td>\n",
       "      <td>...</td>\n",
       "      <td>...</td>\n",
       "    </tr>\n",
       "    <tr>\n",
       "      <th>790</th>\n",
       "      <td>26.249933</td>\n",
       "      <td>26.790209</td>\n",
       "      <td>14.616847</td>\n",
       "      <td>12.705371</td>\n",
       "      <td>16.104098</td>\n",
       "      <td>576.945508</td>\n",
       "    </tr>\n",
       "    <tr>\n",
       "      <th>791</th>\n",
       "      <td>47.202143</td>\n",
       "      <td>43.752227</td>\n",
       "      <td>71.069961</td>\n",
       "      <td>46.219408</td>\n",
       "      <td>45.065024</td>\n",
       "      <td>1118.374568</td>\n",
       "    </tr>\n",
       "    <tr>\n",
       "      <th>792</th>\n",
       "      <td>34.370276</td>\n",
       "      <td>33.276423</td>\n",
       "      <td>38.433383</td>\n",
       "      <td>27.150634</td>\n",
       "      <td>13.997871</td>\n",
       "      <td>946.111655</td>\n",
       "    </tr>\n",
       "    <tr>\n",
       "      <th>793</th>\n",
       "      <td>30.323394</td>\n",
       "      <td>30.063691</td>\n",
       "      <td>20.080068</td>\n",
       "      <td>15.602415</td>\n",
       "      <td>26.212929</td>\n",
       "      <td>665.017587</td>\n",
       "    </tr>\n",
       "    <tr>\n",
       "      <th>794</th>\n",
       "      <td>28.447119</td>\n",
       "      <td>29.852738</td>\n",
       "      <td>18.829132</td>\n",
       "      <td>16.893557</td>\n",
       "      <td>42.796839</td>\n",
       "      <td>587.728710</td>\n",
       "    </tr>\n",
       "  </tbody>\n",
       "</table>\n",
       "<p>795 rows × 6 columns</p>\n",
       "</div>"
      ],
      "text/plain": [
       "           so2        no2        pm10      pm2_5         o3           co\n",
       "0    50.684416  44.340690   73.784391  50.632736  31.903188  1295.719836\n",
       "1    26.432663  30.373145   47.828544  29.053158   1.024751   918.481214\n",
       "2    36.029755  35.083525   65.972743  47.193143  10.207127  1252.355067\n",
       "3    54.057710  52.729967  104.287249  68.323767  25.215685  1673.105170\n",
       "4    42.121971  36.125891   62.158936  45.839362  13.103738  1215.222753\n",
       "..         ...        ...         ...        ...        ...          ...\n",
       "790  26.249933  26.790209   14.616847  12.705371  16.104098   576.945508\n",
       "791  47.202143  43.752227   71.069961  46.219408  45.065024  1118.374568\n",
       "792  34.370276  33.276423   38.433383  27.150634  13.997871   946.111655\n",
       "793  30.323394  30.063691   20.080068  15.602415  26.212929   665.017587\n",
       "794  28.447119  29.852738   18.829132  16.893557  42.796839   587.728710\n",
       "\n",
       "[795 rows x 6 columns]"
      ]
     },
     "execution_count": 10,
     "metadata": {},
     "output_type": "execute_result"
    }
   ],
   "source": [
    "y_pred_lg"
   ]
  },
  {
   "cell_type": "markdown",
   "metadata": {},
   "source": [
    "##### Tính loss của mô hình"
   ]
  },
  {
   "cell_type": "code",
   "execution_count": 11,
   "metadata": {},
   "outputs": [
    {
     "name": "stdout",
     "output_type": "stream",
     "text": [
      "Loss:  0.13836477987421383\n"
     ]
    }
   ],
   "source": [
    "loss = loss_function(y_pred_lg, y_test)\n",
    "print('Loss: ', loss)"
   ]
  },
  {
   "cell_type": "markdown",
   "metadata": {},
   "source": [
    "#### Mô hình cơ sở: Cây quyết định"
   ]
  },
  {
   "cell_type": "markdown",
   "metadata": {},
   "source": [
    "Mô hình cây quyết định sử dụng thêm tập dữ liệu valid để tinh chỉnh siêu tham số"
   ]
  },
  {
   "cell_type": "code",
   "execution_count": 12,
   "metadata": {},
   "outputs": [
    {
     "name": "stdout",
     "output_type": "stream",
     "text": [
      "Best max_depth: 14, Validation Loss: 0.1320754716981132\n"
     ]
    }
   ],
   "source": [
    "validation_loss = []\n",
    "max_depth = 31\n",
    "\n",
    "for depth in range(1, max_depth):\n",
    "    # Huấn luyện\n",
    "    model = DecisionTreeRegressor(max_depth=depth, random_state=42)\n",
    "    model.fit(X_train, y_train)\n",
    "    # Dự đoán trên valid\n",
    "    y_pred_valid = model.predict(X_valid)\n",
    "    # Chuyển sang df\n",
    "    y_pred_valid_df = pd.DataFrame(y_pred_valid, columns=y_train.columns)\n",
    "    # Tính loss\n",
    "    loss = loss_function(y_pred_valid_df, y_valid)\n",
    "    # Lưu kết quả\n",
    "    validation_loss.append((depth, loss))\n",
    "\n",
    "best_depth, best_loss = min(validation_loss, key = lambda x: x[1])\n",
    "print(f\"Best max_depth: {best_depth}, Validation Loss: {best_loss}\")"
   ]
  },
  {
   "cell_type": "markdown",
   "metadata": {},
   "source": [
    "##### Huấn luyện mô hình cuối cùng"
   ]
  },
  {
   "cell_type": "code",
   "execution_count": 13,
   "metadata": {},
   "outputs": [
    {
     "data": {
      "text/plain": [
       "DecisionTreeRegressor(max_depth=14, random_state=42)"
      ]
     },
     "execution_count": 13,
     "metadata": {},
     "output_type": "execute_result"
    }
   ],
   "source": [
    "final_model = DecisionTreeRegressor(max_depth=best_depth, random_state=42)\n",
    "final_model.fit(X_train, y_train)"
   ]
  },
  {
   "cell_type": "code",
   "execution_count": 14,
   "metadata": {},
   "outputs": [
    {
     "data": {
      "text/html": [
       "<div>\n",
       "<style scoped>\n",
       "    .dataframe tbody tr th:only-of-type {\n",
       "        vertical-align: middle;\n",
       "    }\n",
       "\n",
       "    .dataframe tbody tr th {\n",
       "        vertical-align: top;\n",
       "    }\n",
       "\n",
       "    .dataframe thead th {\n",
       "        text-align: right;\n",
       "    }\n",
       "</style>\n",
       "<table border=\"1\" class=\"dataframe\">\n",
       "  <thead>\n",
       "    <tr style=\"text-align: right;\">\n",
       "      <th></th>\n",
       "      <th>so2</th>\n",
       "      <th>no2</th>\n",
       "      <th>pm10</th>\n",
       "      <th>pm2_5</th>\n",
       "      <th>o3</th>\n",
       "      <th>co</th>\n",
       "    </tr>\n",
       "  </thead>\n",
       "  <tbody>\n",
       "    <tr>\n",
       "      <th>0</th>\n",
       "      <td>43.630000</td>\n",
       "      <td>26.820000</td>\n",
       "      <td>44.645000</td>\n",
       "      <td>32.190000</td>\n",
       "      <td>17.350000</td>\n",
       "      <td>1034.740000</td>\n",
       "    </tr>\n",
       "    <tr>\n",
       "      <th>1</th>\n",
       "      <td>27.535000</td>\n",
       "      <td>34.790000</td>\n",
       "      <td>49.325000</td>\n",
       "      <td>37.865000</td>\n",
       "      <td>14.795000</td>\n",
       "      <td>1034.740000</td>\n",
       "    </tr>\n",
       "    <tr>\n",
       "      <th>2</th>\n",
       "      <td>32.406250</td>\n",
       "      <td>26.167969</td>\n",
       "      <td>65.195781</td>\n",
       "      <td>51.908125</td>\n",
       "      <td>0.514062</td>\n",
       "      <td>1353.919531</td>\n",
       "    </tr>\n",
       "    <tr>\n",
       "      <th>3</th>\n",
       "      <td>46.704074</td>\n",
       "      <td>51.243333</td>\n",
       "      <td>74.562222</td>\n",
       "      <td>50.303704</td>\n",
       "      <td>3.120741</td>\n",
       "      <td>1477.558889</td>\n",
       "    </tr>\n",
       "    <tr>\n",
       "      <th>4</th>\n",
       "      <td>52.450000</td>\n",
       "      <td>34.275000</td>\n",
       "      <td>31.215000</td>\n",
       "      <td>20.145000</td>\n",
       "      <td>18.775000</td>\n",
       "      <td>841.140000</td>\n",
       "    </tr>\n",
       "    <tr>\n",
       "      <th>...</th>\n",
       "      <td>...</td>\n",
       "      <td>...</td>\n",
       "      <td>...</td>\n",
       "      <td>...</td>\n",
       "      <td>...</td>\n",
       "      <td>...</td>\n",
       "    </tr>\n",
       "    <tr>\n",
       "      <th>790</th>\n",
       "      <td>21.847273</td>\n",
       "      <td>25.111818</td>\n",
       "      <td>16.548182</td>\n",
       "      <td>10.181818</td>\n",
       "      <td>18.742727</td>\n",
       "      <td>400.239091</td>\n",
       "    </tr>\n",
       "    <tr>\n",
       "      <th>791</th>\n",
       "      <td>65.800000</td>\n",
       "      <td>70.600000</td>\n",
       "      <td>45.700000</td>\n",
       "      <td>36.540000</td>\n",
       "      <td>41.130000</td>\n",
       "      <td>1188.280000</td>\n",
       "    </tr>\n",
       "    <tr>\n",
       "      <th>792</th>\n",
       "      <td>36.409048</td>\n",
       "      <td>37.927619</td>\n",
       "      <td>34.198571</td>\n",
       "      <td>21.629048</td>\n",
       "      <td>11.052381</td>\n",
       "      <td>786.463333</td>\n",
       "    </tr>\n",
       "    <tr>\n",
       "      <th>793</th>\n",
       "      <td>23.398333</td>\n",
       "      <td>25.018611</td>\n",
       "      <td>22.929167</td>\n",
       "      <td>18.092500</td>\n",
       "      <td>12.363889</td>\n",
       "      <td>716.156389</td>\n",
       "    </tr>\n",
       "    <tr>\n",
       "      <th>794</th>\n",
       "      <td>28.956270</td>\n",
       "      <td>23.578651</td>\n",
       "      <td>22.640317</td>\n",
       "      <td>16.409365</td>\n",
       "      <td>70.764603</td>\n",
       "      <td>583.489286</td>\n",
       "    </tr>\n",
       "  </tbody>\n",
       "</table>\n",
       "<p>795 rows × 6 columns</p>\n",
       "</div>"
      ],
      "text/plain": [
       "           so2        no2       pm10      pm2_5         o3           co\n",
       "0    43.630000  26.820000  44.645000  32.190000  17.350000  1034.740000\n",
       "1    27.535000  34.790000  49.325000  37.865000  14.795000  1034.740000\n",
       "2    32.406250  26.167969  65.195781  51.908125   0.514062  1353.919531\n",
       "3    46.704074  51.243333  74.562222  50.303704   3.120741  1477.558889\n",
       "4    52.450000  34.275000  31.215000  20.145000  18.775000   841.140000\n",
       "..         ...        ...        ...        ...        ...          ...\n",
       "790  21.847273  25.111818  16.548182  10.181818  18.742727   400.239091\n",
       "791  65.800000  70.600000  45.700000  36.540000  41.130000  1188.280000\n",
       "792  36.409048  37.927619  34.198571  21.629048  11.052381   786.463333\n",
       "793  23.398333  25.018611  22.929167  18.092500  12.363889   716.156389\n",
       "794  28.956270  23.578651  22.640317  16.409365  70.764603   583.489286\n",
       "\n",
       "[795 rows x 6 columns]"
      ]
     },
     "execution_count": 14,
     "metadata": {},
     "output_type": "execute_result"
    }
   ],
   "source": [
    "y_pred_test = final_model.predict(X_test)\n",
    "y_pred_test_df = pd.DataFrame(y_pred_test, columns=y_train.columns)\n",
    "y_pred_test_df"
   ]
  },
  {
   "cell_type": "code",
   "execution_count": 15,
   "metadata": {},
   "outputs": [
    {
     "name": "stdout",
     "output_type": "stream",
     "text": [
      "Loss:  0.15220125786163521\n"
     ]
    }
   ],
   "source": [
    "# loss\n",
    "loss = loss_function(y_pred_test_df, y_test)\n",
    "print('Loss: ', loss)"
   ]
  },
  {
   "cell_type": "markdown",
   "metadata": {},
   "source": [
    "### Mô hình hồi quy đa biến"
   ]
  },
  {
   "cell_type": "markdown",
   "metadata": {},
   "source": [
    "#### Chia tập\n",
    "Mô hình hồi quy đa biến không sử dụng rừng ngẫu nhiên làm mô hình cơ sở, việc chia train/valid được thực hiện tự động bởi hàm GridSearchCV dựa trên tập dữ liệu đầu vào là X_train, y_train đã chia ở trên. Grid search sử dụng k-fold cross-validation để tinh chỉnh siêu tham số tự động"
   ]
  },
  {
   "cell_type": "markdown",
   "metadata": {},
   "source": [
    "### Phần này mô hình chạy tương đối lâu"
   ]
  },
  {
   "cell_type": "code",
   "execution_count": 16,
   "metadata": {},
   "outputs": [
    {
     "name": "stdout",
     "output_type": "stream",
     "text": [
      "Best parameters found:  {'estimator__max_depth': 20, 'estimator__min_samples_leaf': 2, 'estimator__min_samples_split': 2, 'estimator__n_estimators': 200}\n"
     ]
    }
   ],
   "source": [
    "# Định nghĩa mô hình RandomForestRegressor\n",
    "rf = RandomForestRegressor()\n",
    "\n",
    "# Định nghĩa mô hình MultiOutputRegressor với RandomForestRegressor\n",
    "model = MultiOutputRegressor(rf)\n",
    "\n",
    "# Tạo một GridSearchCV với các tham số cần tinh chỉnh\n",
    "param_grid = {\n",
    "    'estimator__n_estimators': [50, 100, 200],\n",
    "    'estimator__max_depth': [10, 20, None],\n",
    "    'estimator__min_samples_split': [2, 5, 10],\n",
    "    'estimator__min_samples_leaf': [1, 2, 4]\n",
    "}\n",
    "\n",
    "grid_search = GridSearchCV(model, param_grid, cv=5, n_jobs=-1)\n",
    "\n",
    "# Huấn luyện mô hình và tìm tham số tốt nhất\n",
    "grid_search.fit(X_train, y_train)\n",
    "\n",
    "# In ra các tham số tối ưu\n",
    "print(\"Best parameters found: \", grid_search.best_params_)\n",
    "\n",
    "# Dự đoán với mô hình đã được tối ưu\n",
    "predictions = grid_search.predict(X_test)"
   ]
  },
  {
   "cell_type": "code",
   "execution_count": 17,
   "metadata": {},
   "outputs": [
    {
     "data": {
      "text/html": [
       "<div>\n",
       "<style scoped>\n",
       "    .dataframe tbody tr th:only-of-type {\n",
       "        vertical-align: middle;\n",
       "    }\n",
       "\n",
       "    .dataframe tbody tr th {\n",
       "        vertical-align: top;\n",
       "    }\n",
       "\n",
       "    .dataframe thead th {\n",
       "        text-align: right;\n",
       "    }\n",
       "</style>\n",
       "<table border=\"1\" class=\"dataframe\">\n",
       "  <thead>\n",
       "    <tr style=\"text-align: right;\">\n",
       "      <th></th>\n",
       "      <th>so2</th>\n",
       "      <th>no2</th>\n",
       "      <th>pm10</th>\n",
       "      <th>pm2_5</th>\n",
       "      <th>o3</th>\n",
       "      <th>co</th>\n",
       "    </tr>\n",
       "  </thead>\n",
       "  <tbody>\n",
       "    <tr>\n",
       "      <th>0</th>\n",
       "      <td>65.060264</td>\n",
       "      <td>59.448862</td>\n",
       "      <td>57.463505</td>\n",
       "      <td>46.052380</td>\n",
       "      <td>19.811606</td>\n",
       "      <td>1243.774436</td>\n",
       "    </tr>\n",
       "    <tr>\n",
       "      <th>1</th>\n",
       "      <td>38.913668</td>\n",
       "      <td>35.667446</td>\n",
       "      <td>39.737693</td>\n",
       "      <td>30.881989</td>\n",
       "      <td>3.389377</td>\n",
       "      <td>799.003837</td>\n",
       "    </tr>\n",
       "    <tr>\n",
       "      <th>2</th>\n",
       "      <td>30.159542</td>\n",
       "      <td>27.603567</td>\n",
       "      <td>58.964453</td>\n",
       "      <td>48.401910</td>\n",
       "      <td>0.177802</td>\n",
       "      <td>1259.411296</td>\n",
       "    </tr>\n",
       "    <tr>\n",
       "      <th>3</th>\n",
       "      <td>49.714553</td>\n",
       "      <td>46.558927</td>\n",
       "      <td>60.897849</td>\n",
       "      <td>48.915929</td>\n",
       "      <td>11.685559</td>\n",
       "      <td>1369.503625</td>\n",
       "    </tr>\n",
       "    <tr>\n",
       "      <th>4</th>\n",
       "      <td>40.088422</td>\n",
       "      <td>32.804428</td>\n",
       "      <td>53.589479</td>\n",
       "      <td>44.534680</td>\n",
       "      <td>2.191228</td>\n",
       "      <td>1204.967177</td>\n",
       "    </tr>\n",
       "    <tr>\n",
       "      <th>...</th>\n",
       "      <td>...</td>\n",
       "      <td>...</td>\n",
       "      <td>...</td>\n",
       "      <td>...</td>\n",
       "      <td>...</td>\n",
       "      <td>...</td>\n",
       "    </tr>\n",
       "    <tr>\n",
       "      <th>790</th>\n",
       "      <td>22.563794</td>\n",
       "      <td>29.091425</td>\n",
       "      <td>16.881366</td>\n",
       "      <td>11.129595</td>\n",
       "      <td>20.031714</td>\n",
       "      <td>454.940337</td>\n",
       "    </tr>\n",
       "    <tr>\n",
       "      <th>791</th>\n",
       "      <td>80.941646</td>\n",
       "      <td>67.823583</td>\n",
       "      <td>89.001669</td>\n",
       "      <td>73.828793</td>\n",
       "      <td>33.616755</td>\n",
       "      <td>1292.936059</td>\n",
       "    </tr>\n",
       "    <tr>\n",
       "      <th>792</th>\n",
       "      <td>34.728734</td>\n",
       "      <td>34.003968</td>\n",
       "      <td>33.564321</td>\n",
       "      <td>22.770804</td>\n",
       "      <td>1.942830</td>\n",
       "      <td>847.437489</td>\n",
       "    </tr>\n",
       "    <tr>\n",
       "      <th>793</th>\n",
       "      <td>25.074664</td>\n",
       "      <td>24.791399</td>\n",
       "      <td>22.097382</td>\n",
       "      <td>19.472705</td>\n",
       "      <td>22.565729</td>\n",
       "      <td>728.534662</td>\n",
       "    </tr>\n",
       "    <tr>\n",
       "      <th>794</th>\n",
       "      <td>19.103494</td>\n",
       "      <td>22.473727</td>\n",
       "      <td>22.518005</td>\n",
       "      <td>13.518247</td>\n",
       "      <td>43.218861</td>\n",
       "      <td>553.161158</td>\n",
       "    </tr>\n",
       "  </tbody>\n",
       "</table>\n",
       "<p>795 rows × 6 columns</p>\n",
       "</div>"
      ],
      "text/plain": [
       "           so2        no2       pm10      pm2_5         o3           co\n",
       "0    65.060264  59.448862  57.463505  46.052380  19.811606  1243.774436\n",
       "1    38.913668  35.667446  39.737693  30.881989   3.389377   799.003837\n",
       "2    30.159542  27.603567  58.964453  48.401910   0.177802  1259.411296\n",
       "3    49.714553  46.558927  60.897849  48.915929  11.685559  1369.503625\n",
       "4    40.088422  32.804428  53.589479  44.534680   2.191228  1204.967177\n",
       "..         ...        ...        ...        ...        ...          ...\n",
       "790  22.563794  29.091425  16.881366  11.129595  20.031714   454.940337\n",
       "791  80.941646  67.823583  89.001669  73.828793  33.616755  1292.936059\n",
       "792  34.728734  34.003968  33.564321  22.770804   1.942830   847.437489\n",
       "793  25.074664  24.791399  22.097382  19.472705  22.565729   728.534662\n",
       "794  19.103494  22.473727  22.518005  13.518247  43.218861   553.161158\n",
       "\n",
       "[795 rows x 6 columns]"
      ]
     },
     "execution_count": 17,
     "metadata": {},
     "output_type": "execute_result"
    }
   ],
   "source": [
    "pred_df = pd.DataFrame(predictions, columns=y_train.columns)\n",
    "pred_df"
   ]
  },
  {
   "cell_type": "code",
   "execution_count": 18,
   "metadata": {},
   "outputs": [
    {
     "name": "stdout",
     "output_type": "stream",
     "text": [
      "Loss:  0.1119496855345912\n"
     ]
    }
   ],
   "source": [
    "loss = loss_function(pred_df, y_test)\n",
    "print('Loss: ', loss)"
   ]
  }
 ],
 "metadata": {
  "kernelspec": {
   "display_name": "min_ds-env2",
   "language": "python",
   "name": "python3"
  },
  "language_info": {
   "codemirror_mode": {
    "name": "ipython",
    "version": 3
   },
   "file_extension": ".py",
   "mimetype": "text/x-python",
   "name": "python",
   "nbconvert_exporter": "python",
   "pygments_lexer": "ipython3",
   "version": "3.10.15"
  }
 },
 "nbformat": 4,
 "nbformat_minor": 2
}
